{
 "cells": [
  {
   "cell_type": "code",
   "execution_count": 2,
   "metadata": {},
   "outputs": [
    {
     "name": "stdout",
     "output_type": "stream",
     "text": [
      "you entered: 578273ee1376f7b77082e6c89b91040adb092f2f\n",
      "Requesting Token...\n",
      "\n",
      "Access Token = aa3356e6edfe5ae7d4bb53e8890c6e83408a2679\n",
      "\n",
      "Evening Ride\n",
      "uyd}FnbpmPf@c@^e@B?JHZj@jBdDPf@Hp@BBPBtDDpB?vCG^CXGlABxEAp@HfTHNOFoANKfCCNOBcCEcASaCOkC@}BDIvAAHD@DDl@HZZ@j@IfAC^GNO`@{@h@]DKBKB]CoADIJG`CHhHBrCLzB@`BEbB@bBHn@JXAb@MVQPSJUB_@YyGAsBTsAXm@V_@lD_Dt@g@RGVCvCLbACrAB|@Jn@NzANz@SdAi@`Cy@~A[p@SxBiATCVBNN?t@FX~@hAf@vATxAFbBTv@rAjBh@FHHHb@FnA@~@EpAObAMt@yA~DSdAK^u@pBQ|@k@lB[`BYhCOfCITGFGDS@_B?[JaD@aCDe@XSBsLEG@WRCFAb@@bGKvSQjDEh@]xBs@tCcAfCiIlOy@tBe@lBSnBG|BJ~BZtB|@zDJRRC^Ff@j@TNNDp@@HGNm@DEZQ~@MVMJQJYHu@L[NQfAe@LOl@aAROr@Ux@E^Sn@s@TKv@KjA_AJE`AOvA]j@[^c@d@_@|AQhBgAn@c@VGT?VHRLRTl@hAd@r@LTF^BvANvAH|Ba@nIAnBRlC@jBLpBb@`DH`AE`@WxAM|BI\\]r@o@l@mAh@gAH_DDcAQiBo@cAWm@A[BQ?aE{@aHy@kBa@gAq@wBoBiAw@QBIFEJi@hFKRWFq@QmBs@gBi@_@Ii@DWEa@Sc@]SCSBc@RS@{@?gAD{A\\kBr@yA`@iCj@{@VSJ[Z]VIBUF}B?c@BiAZkBx@s@\\SXq@pAy@tAs@v@gAdAiArAyA`Ba@~@Yf@}BrBWHoG\\qAIoBc@yBw@}CeBgAe@aBe@wDs@g@SMQ]kAC[?[PmBFyBHwANiBBgAFaAXqAXkB\\o@BW@i@Re@DUbA_Gx@gEBk@XcBFWz@oCrAmGLo@Z_D_Rwz@kC@\n"
     ]
    }
   ],
   "source": [
    "import requests\n",
    "import urllib3\n",
    "urllib3.disable_warnings(urllib3.exceptions.InsecureRequestWarning)\n",
    "from datetime import datetime, timedelta\n",
    "\n",
    "\n",
    "### Personal Notes ###\n",
    "\n",
    "#code here is copied from https://github.com/franchyze923/Code_From_Tutorials/blob/master/Strava_Api/strava_api.py\n",
    "#im using this code as a starting point to get my data and learn about API's\n",
    "\n",
    "### End Notes ###\n",
    "\n",
    "print(\"Please enter your client id:\")\n",
    "id = input()\n",
    "\n",
    "print(\"Please enter your refresh token:\")\n",
    "refresh = input()\n",
    "\n",
    "print(\"Please enter your client secret:\")\n",
    "secret = input()\n",
    "\n",
    "auth_url = \"https://www.strava.com/oauth/token\"\n",
    "activites_url = \"https://www.strava.com/api/v3/athlete/activities\"\n",
    "\n",
    "payload = {\n",
    "    'client_id': id,\n",
    "    'client_secret': secret,\n",
    "    'refresh_token': refresh,\n",
    "    'grant_type': \"refresh_token\",\n",
    "    'f': 'json'\n",
    "}\n",
    "\n",
    "print(\"Requesting Token...\\n\")\n",
    "res = requests.post(auth_url, data=payload, verify=False)\n",
    "access_token = res.json()['access_token']\n",
    "print(\"Access Token = {}\\n\".format(access_token))\n",
    "\n",
    "header = {'Authorization': 'Bearer ' + access_token}\n",
    "param = {'per_page': 200, 'page': 1}\n",
    "my_dataset = requests.get(activites_url, headers=header, params=param).json()\n",
    "\n",
    "print(my_dataset[0][\"name\"])\n",
    "print(my_dataset[0][\"map\"][\"summary_polyline\"])"
   ]
  },
  {
   "cell_type": "code",
   "execution_count": 3,
   "metadata": {},
   "outputs": [
    {
     "name": "stdout",
     "output_type": "stream",
     "text": [
      "Grandmas marathon \n",
      "42487.6\n",
      "21\n",
      "4.313\n",
      "13382\n"
     ]
    }
   ],
   "source": [
    "print(my_dataset[0][\"name\"])\n",
    "print(my_dataset[0][\"distance\"])\n",
    "print(my_dataset[0][\"kudos_count\"])\n",
    "print(my_dataset[0][\"max_speed\"])\n",
    "print(my_dataset[0][\"elapsed_time\"])"
   ]
  },
  {
   "cell_type": "code",
   "execution_count": 17,
   "metadata": {},
   "outputs": [
    {
     "name": "stdout",
     "output_type": "stream",
     "text": [
      "done?\n"
     ]
    }
   ],
   "source": [
    "#import json\n",
    "\n",
    "#with open (\"Demo_Data.txt\", \"w\") as fp:\n",
    "    \n",
    "#    json.dump(my_dataset, fp)\n",
    "\n",
    "#print (\"done?\")"
   ]
  },
  {
   "cell_type": "code",
   "execution_count": 5,
   "metadata": {},
   "outputs": [
    {
     "name": "stdout",
     "output_type": "stream",
     "text": [
      "Requesting Token...\n",
      "\n",
      "Access Token = 6a5e381bf2fb7caeec5518c6d5cb4e60b6cf2194\n",
      "\n",
      "[4, 10, 10, 14, 19, 27, 29, 31, 34, 36, 37, 43]\n"
     ]
    }
   ],
   "source": [
    "import requests\n",
    "import urllib3\n",
    "urllib3.disable_warnings(urllib3.exceptions.InsecureRequestWarning)\n",
    "from datetime import datetime, timedelta\n",
    "\n",
    "id = 109422\n",
    "secret = '1a1a3857c3f11f0da887e4bc5064162ecf575246'\n",
    "refresh = '918b3db21b495d1aaddeb81147d444d8718a5c23'\n",
    "\n",
    "auth_url = \"https://www.strava.com/oauth/token\"\n",
    "activites_url = \"https://www.strava.com/api/v3/athlete/activities\"\n",
    "\n",
    "payload = {\n",
    "    'client_id': id,\n",
    "    'client_secret': secret,\n",
    "    'refresh_token': refresh,\n",
    "    'grant_type': \"refresh_token\",\n",
    "    'f': 'json'\n",
    "}\n",
    "\n",
    "print(\"Requesting Token...\\n\")\n",
    "res = requests.post(auth_url, data=payload, verify=False)\n",
    "access_token = res.json()['access_token']\n",
    "print(\"Access Token = {}\\n\".format(access_token))\n",
    "\n",
    "header = {'Authorization': 'Bearer ' + access_token}\n",
    "param = {'per_page': 200, 'page': 1}\n",
    "my_dataset = requests.get(activites_url, headers=header, params=param).json()\n",
    "\n",
    "timeframe = \"last_month\"\n",
    "data_type = \"run\" \n",
    "metric = \"kudos\"\n",
    "\n",
    "# Filter activities based on the selected timeframe\n",
    "if timeframe == \"last_year\":\n",
    "    start_date = datetime.now() - timedelta(days=365)\n",
    "elif timeframe == \"last_month\":\n",
    "    start_date = datetime.now() - timedelta(days=30)\n",
    "elif timeframe == \"last_week\":\n",
    "    start_date = datetime.now() - timedelta(days=7)\n",
    "else:\n",
    "    # Default to last month\n",
    "    start_date = datetime.now() - timedelta(days=30)\n",
    "\n",
    "filtered_activities = [activity for activity in my_dataset if datetime.strptime(activity['start_date'], '%Y-%m-%dT%H:%M:%SZ') > start_date]\n",
    "\n",
    "if data_type == \"run\":\n",
    "    filtered_activities = [activity for activity in filtered_activities if activity['type'] == 'Run']\n",
    "elif data_type == \"bike\":\n",
    "    filtered_activities = [activity for activity in filtered_activities if activity['type'] == 'Ride']\n",
    "else:\n",
    "    filtered_activities = [activity for activity in filtered_activities if activity['type'] == 'Run']\n",
    "    pass\n",
    "\n",
    "# Calculate the total of the selected metric\n",
    "cumulative_sum_list = []\n",
    "cumulative_sum = 0\n",
    "\n",
    "for activity in filtered_activities:\n",
    "    if metric == \"kudos\":\n",
    "        activity_metric = activity['kudos_count']\n",
    "    elif metric == \"distance\":\n",
    "        activity_metric = activity['distance']\n",
    "    elif metric == \"time\":\n",
    "        activity_metric = activity['moving_time']\n",
    "    else:\n",
    "        # Default to kudos\n",
    "        activity_metric = activity['kudos_count']\n",
    "\n",
    "    cumulative_sum += activity_metric\n",
    "    cumulative_sum_list.append(cumulative_sum)\n",
    "\n",
    "print(cumulative_sum_list)"
   ]
  },
  {
   "cell_type": "code",
   "execution_count": 30,
   "metadata": {},
   "outputs": [],
   "source": [
    "def data_analysis(timeframe=\"last_month\", data_type=\"run\", metric=\"distance\", sum_activities = 0):\n",
    "    \n",
    "    auth_url = \"https://www.strava.com/oauth/token\"\n",
    "    activites_url = \"https://www.strava.com/api/v3/athlete/activities\"\n",
    "    \n",
    "    payload = {\n",
    "        'client_id': id,\n",
    "        'client_secret': secret,\n",
    "        'refresh_token': refresh,\n",
    "        'grant_type': \"refresh_token\",\n",
    "        'f': 'json'\n",
    "    }\n",
    "\n",
    "    print(\"Requesting Token...\\n\")\n",
    "    res = requests.post(auth_url, data=payload, verify=False)\n",
    "    access_token = res.json()['access_token']\n",
    "    print(\"Access Token = {}\\n\".format(access_token))\n",
    "\n",
    "    header = {'Authorization': 'Bearer ' + access_token}\n",
    "    param = {'per_page': 200, 'page': 1}\n",
    "    my_dataset = requests.get(activites_url, headers=header, params=param).json()\n",
    "\n",
    "    if data_type == \"run\":\n",
    "        filtered_activities = [activity for activity in my_dataset if activity['type'] == 'Run']\n",
    "    elif data_type == \"bike\":\n",
    "        filtered_activities = [activity for activity in my_dataset if activity['type'] == 'Ride']\n",
    "    else:\n",
    "        filtered_activities = [activity for activity in my_dataset if activity['type'] == 'Run']\n",
    "        pass\n",
    "\n",
    "    # Filter activities based on the selected timeframe\n",
    "    if timeframe == \"last_year\":\n",
    "        start_date = datetime.now() - timedelta(days=365)\n",
    "    elif timeframe == \"ytd\":\n",
    "        start_date = datetime(datetime.now().year, 1, 1)\n",
    "    elif timeframe == \"last_month\":\n",
    "        start_date = datetime.now() - timedelta(days=30)\n",
    "    elif timeframe == \"last_week\":\n",
    "        start_date = datetime.now() - timedelta(days=7)        \n",
    "    else:\n",
    "        # Default to last month\n",
    "        start_date = datetime.now() - timedelta(days=30)\n",
    "\n",
    "    if timeframe == \"last_5\":\n",
    "        filtered_activities = [filtered_activities[0],filtered_activities[1],filtered_activities[2],filtered_activities[3],filtered_activities[4]]\n",
    "    else:\n",
    "        filtered_activities = [activity for activity in my_dataset if datetime.strptime(activity['start_date'], '%Y-%m-%dT%H:%M:%SZ') > start_date]\n",
    "\n",
    "    # Calculate the total of the selected metric\n",
    "    cumulative_sum_list = []\n",
    "    cumulative_sum = 0\n",
    "\n",
    "    for activity in filtered_activities:\n",
    "        if metric == \"kudos\":\n",
    "            activity_metric = activity['kudos_count']\n",
    "        elif metric == \"distance\":\n",
    "            activity_metric = activity['distance']\n",
    "        elif metric == \"time\":\n",
    "            activity_metric = activity['moving_time']\n",
    "        elif metric ==\"average speed\":\n",
    "            activity_metric = activity['average_speed']\n",
    "        elif metric == \"max speed\":\n",
    "            activity_metric = activity['max_speed']\n",
    "        else:\n",
    "            # Default to kudos\n",
    "            activity_metric = activity['kudos_count']\n",
    "\n",
    "        #Don't sum speed metrics\n",
    "        if sum_activities == 0 or metric == \"average speed\" or metric == \"max speed\":\n",
    "            cumulative_sum_list.append(activity_metric)\n",
    "        else:\n",
    "            cumulative_sum += activity_metric\n",
    "            cumulative_sum_list.append(cumulative_sum)\n",
    "\n",
    "    return cumulative_sum_list"
   ]
  },
  {
   "cell_type": "code",
   "execution_count": 32,
   "metadata": {},
   "outputs": [
    {
     "name": "stdout",
     "output_type": "stream",
     "text": [
      "Requesting Token...\n",
      "\n",
      "Access Token = 6a5e381bf2fb7caeec5518c6d5cb4e60b6cf2194\n",
      "\n"
     ]
    },
    {
     "data": {
      "image/png": "[encoded data removed]",
      "text/plain": [
       "<Figure size 1000x600 with 1 Axes>"
      ]
     },
     "metadata": {},
     "output_type": "display_data"
    },
    {
     "ename": "",
     "evalue": "",
     "output_type": "error",
     "traceback": [
      "\u001b[1;31mThe Kernel crashed while executing code in the the current cell or a previous cell. Please review the code in the cell(s) to identify a possible cause of the failure. Click <a href='https://aka.ms/vscodeJupyterKernelCrash'>here</a> for more info. View Jupyter <a href='command:jupyter.viewOutput'>log</a> for further details."
     ]
    }
   ],
   "source": [
    "import requests\n",
    "from datetime import datetime, timedelta\n",
    "import matplotlib.pyplot as plt\n",
    "\n",
    "def plot_chart(timeframe, data_type, metric, sum_activities):\n",
    "    cumulative_sum_list = data_analysis(timeframe, data_type, metric, sum_activities)\n",
    "\n",
    "    # Define the x-axis labels (activity indices)\n",
    "    x_labels = list(range(1, len(cumulative_sum_list) + 1))\n",
    "\n",
    "    # Create the plot\n",
    "    plt.figure(figsize=(10, 6))\n",
    "    plt.plot(x_labels, cumulative_sum_list, marker='o', linestyle='-', color='b')\n",
    "    plt.xlabel('Activity Index')\n",
    "    plt.ylabel(f'Cumulative {metric.capitalize()}')\n",
    "    plt.title(f'Cumulative {metric.capitalize()} in the {timeframe} for {data_type.capitalize()}')\n",
    "    plt.grid(True)\n",
    "\n",
    "    # Show the plot\n",
    "    plt.tight_layout()\n",
    "    plt.show()\n",
    "\n",
    "# Example usage:\n",
    "# Replace 'YOUR_CLIENT_ID', 'YOUR_CLIENT_SECRET', and 'YOUR_REFRESH_TOKEN' with your actual Strava API credentials\n",
    "timeframe = \"last_5\"  # You can change this to \"last_year\" or \"last_week\"\n",
    "data_type = \"run\"  # You can change this to \"run\" or leave it empty to include both run and bike\n",
    "metric = \"distance\"  # You can change this to \"kudos\" or \"distance\"\n",
    "sum_activities = 1\n",
    "plot_chart(timeframe, data_type, metric, sum_activities)"
   ]
  }
 ],
 "metadata": {
  "kernelspec": {
   "display_name": "Python 3",
   "language": "python",
   "name": "python3"
  },
  "language_info": {
   "codemirror_mode": {
    "name": "ipython",
    "version": 3
   },
   "file_extension": ".py",
   "mimetype": "text/x-python",
   "name": "python",
   "nbconvert_exporter": "python",
   "pygments_lexer": "ipython3",
   "version": "3.10.9"
  },
  "orig_nbformat": 4
 },
 "nbformat": 4,
 "nbformat_minor": 2
}
